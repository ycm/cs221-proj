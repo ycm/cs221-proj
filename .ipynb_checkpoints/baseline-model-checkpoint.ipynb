{
 "cells": [
  {
   "cell_type": "markdown",
   "metadata": {},
   "source": [
    "# Baseline models for reconstruction: Random guessing and Zero-Rule:\n",
    "\n",
    "To create baselines for reconstructing Middle Chinese pronunciations, we will first experiment with random guessing, and later move onto the Zero Rule (0R)."
   ]
  },
  {
   "cell_type": "code",
   "execution_count": 1,
   "metadata": {},
   "outputs": [],
   "source": [
    "import numpy as np\n",
    "import pandas as pd\n",
    "np.random.seed(42)"
   ]
  },
  {
   "cell_type": "markdown",
   "metadata": {},
   "source": [
    "Load data:"
   ]
  },
  {
   "cell_type": "code",
   "execution_count": 2,
   "metadata": {},
   "outputs": [],
   "source": [
    "matrix = pd.read_csv('model/data-matrix-karlgren.csv').set_index('character')"
   ]
  },
  {
   "cell_type": "code",
   "execution_count": 3,
   "metadata": {},
   "outputs": [
    {
     "data": {
      "text/html": [
       "<div>\n",
       "<style scoped>\n",
       "    .dataframe tbody tr th:only-of-type {\n",
       "        vertical-align: middle;\n",
       "    }\n",
       "\n",
       "    .dataframe tbody tr th {\n",
       "        vertical-align: top;\n",
       "    }\n",
       "\n",
       "    .dataframe thead th {\n",
       "        text-align: right;\n",
       "    }\n",
       "</style>\n",
       "<table border=\"1\" class=\"dataframe\">\n",
       "  <thead>\n",
       "    <tr style=\"text-align: right;\">\n",
       "      <th></th>\n",
       "      <th>mando_onset_b</th>\n",
       "      <th>mando_onset_c</th>\n",
       "      <th>mando_onset_ch</th>\n",
       "      <th>mando_onset_d</th>\n",
       "      <th>mando_onset_f</th>\n",
       "      <th>mando_onset_g</th>\n",
       "      <th>mando_onset_h</th>\n",
       "      <th>mando_onset_j</th>\n",
       "      <th>mando_onset_k</th>\n",
       "      <th>mando_onset_l</th>\n",
       "      <th>...</th>\n",
       "      <th>Karlgren_nucleus_ə̯u</th>\n",
       "      <th>Karlgren_nucleus_ɨ̯ɐ</th>\n",
       "      <th>Karlgren_coda_k̚</th>\n",
       "      <th>Karlgren_coda_m</th>\n",
       "      <th>Karlgren_coda_n</th>\n",
       "      <th>Karlgren_coda_p̚</th>\n",
       "      <th>Karlgren_coda_t̚</th>\n",
       "      <th>Karlgren_coda_ŋ</th>\n",
       "      <th>Karlgren_coda_̯</th>\n",
       "      <th>Karlgren_coda_∅</th>\n",
       "    </tr>\n",
       "    <tr>\n",
       "      <th>character</th>\n",
       "      <th></th>\n",
       "      <th></th>\n",
       "      <th></th>\n",
       "      <th></th>\n",
       "      <th></th>\n",
       "      <th></th>\n",
       "      <th></th>\n",
       "      <th></th>\n",
       "      <th></th>\n",
       "      <th></th>\n",
       "      <th></th>\n",
       "      <th></th>\n",
       "      <th></th>\n",
       "      <th></th>\n",
       "      <th></th>\n",
       "      <th></th>\n",
       "      <th></th>\n",
       "      <th></th>\n",
       "      <th></th>\n",
       "      <th></th>\n",
       "      <th></th>\n",
       "    </tr>\n",
       "  </thead>\n",
       "  <tbody>\n",
       "    <tr>\n",
       "      <th>㐁</th>\n",
       "      <td>0</td>\n",
       "      <td>0</td>\n",
       "      <td>0</td>\n",
       "      <td>0</td>\n",
       "      <td>0</td>\n",
       "      <td>0</td>\n",
       "      <td>0</td>\n",
       "      <td>0</td>\n",
       "      <td>0</td>\n",
       "      <td>0</td>\n",
       "      <td>...</td>\n",
       "      <td>0</td>\n",
       "      <td>0</td>\n",
       "      <td>0</td>\n",
       "      <td>1</td>\n",
       "      <td>0</td>\n",
       "      <td>0</td>\n",
       "      <td>0</td>\n",
       "      <td>0</td>\n",
       "      <td>0</td>\n",
       "      <td>0</td>\n",
       "    </tr>\n",
       "    <tr>\n",
       "      <th>㐆</th>\n",
       "      <td>0</td>\n",
       "      <td>0</td>\n",
       "      <td>0</td>\n",
       "      <td>0</td>\n",
       "      <td>0</td>\n",
       "      <td>0</td>\n",
       "      <td>0</td>\n",
       "      <td>0</td>\n",
       "      <td>0</td>\n",
       "      <td>0</td>\n",
       "      <td>...</td>\n",
       "      <td>0</td>\n",
       "      <td>0</td>\n",
       "      <td>0</td>\n",
       "      <td>0</td>\n",
       "      <td>0</td>\n",
       "      <td>0</td>\n",
       "      <td>0</td>\n",
       "      <td>0</td>\n",
       "      <td>0</td>\n",
       "      <td>1</td>\n",
       "    </tr>\n",
       "    <tr>\n",
       "      <th>㐭</th>\n",
       "      <td>0</td>\n",
       "      <td>0</td>\n",
       "      <td>0</td>\n",
       "      <td>0</td>\n",
       "      <td>0</td>\n",
       "      <td>0</td>\n",
       "      <td>0</td>\n",
       "      <td>0</td>\n",
       "      <td>0</td>\n",
       "      <td>1</td>\n",
       "      <td>...</td>\n",
       "      <td>0</td>\n",
       "      <td>0</td>\n",
       "      <td>0</td>\n",
       "      <td>1</td>\n",
       "      <td>0</td>\n",
       "      <td>0</td>\n",
       "      <td>0</td>\n",
       "      <td>0</td>\n",
       "      <td>0</td>\n",
       "      <td>0</td>\n",
       "    </tr>\n",
       "    <tr>\n",
       "      <th>㐱</th>\n",
       "      <td>0</td>\n",
       "      <td>0</td>\n",
       "      <td>0</td>\n",
       "      <td>0</td>\n",
       "      <td>0</td>\n",
       "      <td>0</td>\n",
       "      <td>0</td>\n",
       "      <td>0</td>\n",
       "      <td>0</td>\n",
       "      <td>0</td>\n",
       "      <td>...</td>\n",
       "      <td>0</td>\n",
       "      <td>0</td>\n",
       "      <td>0</td>\n",
       "      <td>0</td>\n",
       "      <td>1</td>\n",
       "      <td>0</td>\n",
       "      <td>0</td>\n",
       "      <td>0</td>\n",
       "      <td>0</td>\n",
       "      <td>0</td>\n",
       "    </tr>\n",
       "    <tr>\n",
       "      <th>㐲</th>\n",
       "      <td>0</td>\n",
       "      <td>0</td>\n",
       "      <td>0</td>\n",
       "      <td>1</td>\n",
       "      <td>0</td>\n",
       "      <td>0</td>\n",
       "      <td>0</td>\n",
       "      <td>0</td>\n",
       "      <td>0</td>\n",
       "      <td>0</td>\n",
       "      <td>...</td>\n",
       "      <td>0</td>\n",
       "      <td>0</td>\n",
       "      <td>0</td>\n",
       "      <td>0</td>\n",
       "      <td>0</td>\n",
       "      <td>0</td>\n",
       "      <td>0</td>\n",
       "      <td>0</td>\n",
       "      <td>0</td>\n",
       "      <td>1</td>\n",
       "    </tr>\n",
       "  </tbody>\n",
       "</table>\n",
       "<p>5 rows × 472 columns</p>\n",
       "</div>"
      ],
      "text/plain": [
       "           mando_onset_b  mando_onset_c  mando_onset_ch  mando_onset_d  \\\n",
       "character                                                                \n",
       "㐁                      0              0               0              0   \n",
       "㐆                      0              0               0              0   \n",
       "㐭                      0              0               0              0   \n",
       "㐱                      0              0               0              0   \n",
       "㐲                      0              0               0              1   \n",
       "\n",
       "           mando_onset_f  mando_onset_g  mando_onset_h  mando_onset_j  \\\n",
       "character                                                               \n",
       "㐁                      0              0              0              0   \n",
       "㐆                      0              0              0              0   \n",
       "㐭                      0              0              0              0   \n",
       "㐱                      0              0              0              0   \n",
       "㐲                      0              0              0              0   \n",
       "\n",
       "           mando_onset_k  mando_onset_l  ...  Karlgren_nucleus_ə̯u  \\\n",
       "character                                ...                         \n",
       "㐁                      0              0  ...                     0   \n",
       "㐆                      0              0  ...                     0   \n",
       "㐭                      0              1  ...                     0   \n",
       "㐱                      0              0  ...                     0   \n",
       "㐲                      0              0  ...                     0   \n",
       "\n",
       "           Karlgren_nucleus_ɨ̯ɐ  Karlgren_coda_k̚  Karlgren_coda_m  \\\n",
       "character                                                            \n",
       "㐁                             0                 0                1   \n",
       "㐆                             0                 0                0   \n",
       "㐭                             0                 0                1   \n",
       "㐱                             0                 0                0   \n",
       "㐲                             0                 0                0   \n",
       "\n",
       "           Karlgren_coda_n  Karlgren_coda_p̚  Karlgren_coda_t̚  \\\n",
       "character                                                        \n",
       "㐁                        0                 0                 0   \n",
       "㐆                        0                 0                 0   \n",
       "㐭                        0                 0                 0   \n",
       "㐱                        1                 0                 0   \n",
       "㐲                        0                 0                 0   \n",
       "\n",
       "           Karlgren_coda_ŋ  Karlgren_coda_̯  Karlgren_coda_∅  \n",
       "character                                                     \n",
       "㐁                        0                0                0  \n",
       "㐆                        0                0                1  \n",
       "㐭                        0                0                0  \n",
       "㐱                        0                0                0  \n",
       "㐲                        0                0                1  \n",
       "\n",
       "[5 rows x 472 columns]"
      ]
     },
     "execution_count": 3,
     "metadata": {},
     "output_type": "execute_result"
    }
   ],
   "source": [
    "matrix.head()"
   ]
  },
  {
   "cell_type": "markdown",
   "metadata": {},
   "source": [
    "Let's take a look at the entry for 算 ('compute'):"
   ]
  },
  {
   "cell_type": "code",
   "execution_count": 4,
   "metadata": {},
   "outputs": [
    {
     "name": "stdout",
     "output_type": "stream",
     "text": [
      "Query: 算\n",
      "- In Mandarin: s + ua + n\n",
      "- In Korean: ㅅ + ㅏ + ㄴ\n",
      "- Karlgren's reconstruction: s + uɑ + n\n"
     ]
    }
   ],
   "source": [
    "entry = matrix.loc['算']\n",
    "indices = list(entry[entry == 1].index)\n",
    "print('Query: 算')\n",
    "print('- In Mandarin:', ' + '.join([x[x.rfind('_') + 1:] for x in indices if 'mand' in x][:-1]))\n",
    "print('- In Korean:', ' + '.join([x[x.rfind('_') + 1:] for x in indices if 'kor' in x]))\n",
    "print('- Karlgren\\'s reconstruction:', ' + '.join([x[x.rfind('_') + 1:] for x in indices if 'Karlgren' in x]))"
   ]
  },
  {
   "cell_type": "markdown",
   "metadata": {},
   "source": [
    "## Random guessing:\n",
    "\n",
    "For each character, we want to predict the reconstructed onset, nucleus, etc. For each of these syllabic elements, we simply try to guess the correct label out of all possible labels.\n",
    "\n",
    "Here are some of the onsets from Karlgren's scheme: **bʱ dʱ d͡zʱ ... ʔ ∅**\n",
    "\n",
    "For each character we just random guess an onset from the list above."
   ]
  },
  {
   "cell_type": "code",
   "execution_count": 5,
   "metadata": {},
   "outputs": [],
   "source": [
    "cols = list(matrix.columns)\n",
    "tone_label_names = [x for x in cols if 'tone_label' in x]\n",
    "onset_label_names = [x for x in cols if 'Karlgren_onset' in x]\n",
    "nucleus_label_names = [x for x in cols if 'Karlgren_nucleus' in x]\n",
    "coda_label_names = [x for x in cols if 'Karlgren_coda' in x]\n",
    "\n",
    "X = matrix.drop([\n",
    "    *tone_label_names,\n",
    "    *onset_label_names,\n",
    "    *nucleus_label_names,\n",
    "    *coda_label_names\n",
    "], axis=1)"
   ]
  },
  {
   "cell_type": "code",
   "execution_count": 6,
   "metadata": {
    "scrolled": true
   },
   "outputs": [
    {
     "name": "stdout",
     "output_type": "stream",
     "text": [
      "Accuracy on Tone: 25.19%\n",
      "Accuracy on Onset: 2.94%\n",
      "Accuracy on Nucleus: 1.68%\n",
      "Accuracy on Coda: 12.41%\n"
     ]
    }
   ],
   "source": [
    "n_examples = matrix.shape[0]\n",
    "for label_class, name in [\n",
    "    (tone_label_names, 'Tone'),\n",
    "    (onset_label_names, 'Onset'),\n",
    "    (nucleus_label_names, 'Nucleus'),\n",
    "    (coda_label_names, 'Coda')\n",
    "]:\n",
    "    n_categories = len(label_class)\n",
    "    pred_matrix = np.zeros((n_categories, 1))\n",
    "    pred_matrix[np.random.randint(0, n_categories)] = 1\n",
    "    \n",
    "    for row in range(n_examples - 1):\n",
    "        new_row = np.zeros((n_categories, 1))\n",
    "        new_row[np.random.randint(0, n_categories)] = 1\n",
    "        pred_matrix = np.c_[pred_matrix, new_row]\n",
    "    \n",
    "    acc = np.sum(np.sum(matrix[label_class] * pred_matrix.T)) / n_examples\n",
    "    print('Accuracy on {}: {:.2f}%'.format(name, 100 * acc))"
   ]
  },
  {
   "cell_type": "markdown",
   "metadata": {},
   "source": [
    "From random guessing it is clear that our predictions are abysmal. Now we can experiment with Zero Rule (0R).\n",
    "\n",
    "## Zero Rule\n",
    "\n",
    "The Zero Rule procedure for classification simply returns the most frequently occurring class. Based on our data, the level tone is the most frequently occurring tone; by the Zero Rule, we would just predict the level tone every time."
   ]
  },
  {
   "cell_type": "code",
   "execution_count": 7,
   "metadata": {
    "scrolled": true
   },
   "outputs": [
    {
     "name": "stdout",
     "output_type": "stream",
     "text": [
      "Accuracy on Tone: 45.19%\n",
      "Accuracy on Onset: 8.37%\n",
      "Accuracy on Nucleus: 8.18%\n",
      "Accuracy on Coda: 40.14%\n"
     ]
    }
   ],
   "source": [
    "for label_class, name in [\n",
    "    (tone_label_names, 'Tone'),\n",
    "    (onset_label_names, 'Onset'),\n",
    "    (nucleus_label_names, 'Nucleus'),\n",
    "    (coda_label_names, 'Coda')\n",
    "]:\n",
    "    most_frequent_class = matrix[label_class].sum().idxmax()\n",
    "    idx = label_class.index(most_frequent_class)\n",
    "    pred = np.zeros(matrix[label_class].shape)\n",
    "    pred[:, idx] = 1\n",
    "    \n",
    "    acc = np.sum(np.sum(matrix[label_class] * pred)) / n_examples\n",
    "    print('Accuracy on {}: {:.2f}%'.format(name, 100 * acc))"
   ]
  },
  {
   "cell_type": "markdown",
   "metadata": {},
   "source": [
    "By predicting the most frequent class for each syllabic element, we achieve much better results than random guessing. As we make more complex models, we would need to make sure that we perform better than this baseline."
   ]
  }
 ],
 "metadata": {
  "kernelspec": {
   "display_name": "Python 3",
   "language": "python",
   "name": "python3"
  },
  "language_info": {
   "codemirror_mode": {
    "name": "ipython",
    "version": 3
   },
   "file_extension": ".py",
   "mimetype": "text/x-python",
   "name": "python",
   "nbconvert_exporter": "python",
   "pygments_lexer": "ipython3",
   "version": "3.7.1"
  }
 },
 "nbformat": 4,
 "nbformat_minor": 2
}
