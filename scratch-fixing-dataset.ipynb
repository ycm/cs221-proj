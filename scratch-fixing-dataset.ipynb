{
 "cells": [
  {
   "cell_type": "markdown",
   "metadata": {},
   "source": [
    "# Scratch: fixing dataset\n",
    "- **11/29**: Fixed the problem where code wasn't differentiating between `NaN`s and truly empty fields."
   ]
  },
  {
   "cell_type": "code",
   "execution_count": 1,
   "metadata": {},
   "outputs": [],
   "source": [
    "import numpy as np\n",
    "import pandas as pd\n",
    "import pickle"
   ]
  },
  {
   "cell_type": "code",
   "execution_count": 2,
   "metadata": {},
   "outputs": [],
   "source": [
    "with open('preprocessing/dataset/processed2.pkl', 'rb') as f:\n",
    "    sinoxenic = pickle.load(f).drop(['Column5', 'Column6', 'Column7', 'Column8'], axis=1)"
   ]
  },
  {
   "cell_type": "code",
   "execution_count": 3,
   "metadata": {},
   "outputs": [
    {
     "data": {
      "text/plain": [
       "character           渰\n",
       "wiki_id         19172\n",
       "mando_onset         ∅\n",
       "mando_nucl         ya\n",
       "mando_coda          n\n",
       "mando_tone          3\n",
       "canto_onset         j\n",
       "canto_nucl          i\n",
       "canto_coda          m\n",
       "canto_tone          2\n",
       "jp_on_first          \n",
       "jp_on_rest           \n",
       "jp_kan_first         \n",
       "jp_kan_rest          \n",
       "kor_0               ㅇ\n",
       "kor_1               ㅓ\n",
       "kor_2               ㅁ\n",
       "Name: 5001, dtype: object"
      ]
     },
     "execution_count": 3,
     "metadata": {},
     "output_type": "execute_result"
    }
   ],
   "source": [
    "sinoxenic.iloc[5000]"
   ]
  },
  {
   "cell_type": "code",
   "execution_count": 4,
   "metadata": {},
   "outputs": [],
   "source": [
    "sinoxenic_fixed = sinoxenic.applymap(lambda x: np.NaN if not x else x)"
   ]
  },
  {
   "cell_type": "code",
   "execution_count": 5,
   "metadata": {},
   "outputs": [
    {
     "data": {
      "text/plain": [
       "character           渰\n",
       "wiki_id         19172\n",
       "mando_onset         ∅\n",
       "mando_nucl         ya\n",
       "mando_coda          n\n",
       "mando_tone          3\n",
       "canto_onset         j\n",
       "canto_nucl          i\n",
       "canto_coda          m\n",
       "canto_tone          2\n",
       "jp_on_first       NaN\n",
       "jp_on_rest        NaN\n",
       "jp_kan_first      NaN\n",
       "jp_kan_rest       NaN\n",
       "kor_0               ㅇ\n",
       "kor_1               ㅓ\n",
       "kor_2               ㅁ\n",
       "Name: 5001, dtype: object"
      ]
     },
     "execution_count": 5,
     "metadata": {},
     "output_type": "execute_result"
    }
   ],
   "source": [
    "sinoxenic_fixed.iloc[5000]"
   ]
  },
  {
   "cell_type": "code",
   "execution_count": 6,
   "metadata": {},
   "outputs": [],
   "source": [
    "to_encode = sinoxenic_fixed.columns[2:]\n",
    "for col_name in to_encode:\n",
    "    one_hot = pd.get_dummies(sinoxenic_fixed[col_name], prefix=col_name)\n",
    "    sinoxenic_fixed = sinoxenic_fixed.drop([col_name], axis=1).join(one_hot)"
   ]
  },
  {
   "cell_type": "code",
   "execution_count": 7,
   "metadata": {
    "scrolled": true
   },
   "outputs": [
    {
     "data": {
      "text/plain": [
       "{'canto_coda_m',\n",
       " 'canto_nucl_i',\n",
       " 'canto_onset_j',\n",
       " 'canto_tone_2',\n",
       " 'kor_0_ㅇ',\n",
       " 'kor_1_ㅓ',\n",
       " 'kor_2_ㅁ',\n",
       " 'mando_coda_n',\n",
       " 'mando_nucl_ya',\n",
       " 'mando_onset_∅',\n",
       " 'mando_tone_3'}"
      ]
     },
     "execution_count": 7,
     "metadata": {},
     "output_type": "execute_result"
    }
   ],
   "source": [
    "{k for k, v in dict(sinoxenic_fixed.iloc[5000]).items() if v == 1}"
   ]
  },
  {
   "cell_type": "code",
   "execution_count": 8,
   "metadata": {},
   "outputs": [
    {
     "data": {
      "text/html": [
       "<div>\n",
       "<style scoped>\n",
       "    .dataframe tbody tr th:only-of-type {\n",
       "        vertical-align: middle;\n",
       "    }\n",
       "\n",
       "    .dataframe tbody tr th {\n",
       "        vertical-align: top;\n",
       "    }\n",
       "\n",
       "    .dataframe thead th {\n",
       "        text-align: right;\n",
       "    }\n",
       "</style>\n",
       "<table border=\"1\" class=\"dataframe\">\n",
       "  <thead>\n",
       "    <tr style=\"text-align: right;\">\n",
       "      <th></th>\n",
       "      <th>character</th>\n",
       "      <th>index</th>\n",
       "      <th>tone_label</th>\n",
       "      <th>Zhengzhang_onset</th>\n",
       "      <th>Zhengzhang_nucleus</th>\n",
       "      <th>Zhengzhang_coda</th>\n",
       "      <th>Pan_onset</th>\n",
       "      <th>Pan_nucleus</th>\n",
       "      <th>Pan_coda</th>\n",
       "      <th>Shao_onset</th>\n",
       "      <th>...</th>\n",
       "      <th>Shao_coda</th>\n",
       "      <th>Pulleyblank_onset</th>\n",
       "      <th>Pulleyblank_nucleus</th>\n",
       "      <th>Pulleyblank_coda</th>\n",
       "      <th>Li_onset</th>\n",
       "      <th>Li_nucleus</th>\n",
       "      <th>Li_coda</th>\n",
       "      <th>Karlgren_onset</th>\n",
       "      <th>Karlgren_nucleus</th>\n",
       "      <th>Karlgren_coda</th>\n",
       "    </tr>\n",
       "  </thead>\n",
       "  <tbody>\n",
       "    <tr>\n",
       "      <th>0</th>\n",
       "      <td>一</td>\n",
       "      <td>5611001</td>\n",
       "      <td>checked</td>\n",
       "      <td>ʔ</td>\n",
       "      <td>iɪ</td>\n",
       "      <td>t̚</td>\n",
       "      <td>ʔ</td>\n",
       "      <td>i</td>\n",
       "      <td>t̚</td>\n",
       "      <td>ʔ</td>\n",
       "      <td>...</td>\n",
       "      <td>t̚</td>\n",
       "      <td>ʔ</td>\n",
       "      <td>i</td>\n",
       "      <td>t̚</td>\n",
       "      <td>ʔ</td>\n",
       "      <td>iĕ</td>\n",
       "      <td>t̚</td>\n",
       "      <td>ʔ</td>\n",
       "      <td>i̯ĕ</td>\n",
       "      <td>t̚</td>\n",
       "    </tr>\n",
       "    <tr>\n",
       "      <th>1</th>\n",
       "      <td>丁</td>\n",
       "      <td>5611004</td>\n",
       "      <td>level</td>\n",
       "      <td>ʈ</td>\n",
       "      <td>ˠɛ</td>\n",
       "      <td>ŋ</td>\n",
       "      <td>ʈ</td>\n",
       "      <td>ᵚæ</td>\n",
       "      <td>ŋ</td>\n",
       "      <td>ȶ</td>\n",
       "      <td>...</td>\n",
       "      <td>ŋ</td>\n",
       "      <td>ʈ</td>\n",
       "      <td>əɨj</td>\n",
       "      <td>ŋ</td>\n",
       "      <td>ȶ</td>\n",
       "      <td>ɛ</td>\n",
       "      <td>ŋ</td>\n",
       "      <td>ȶ</td>\n",
       "      <td>æ</td>\n",
       "      <td>ŋ</td>\n",
       "    </tr>\n",
       "    <tr>\n",
       "      <th>2</th>\n",
       "      <td>丂</td>\n",
       "      <td>5611009</td>\n",
       "      <td>rising</td>\n",
       "      <td>kʰ</td>\n",
       "      <td>ɑu</td>\n",
       "      <td>∅</td>\n",
       "      <td>kʰ</td>\n",
       "      <td>ɑu</td>\n",
       "      <td>∅</td>\n",
       "      <td>kʰ</td>\n",
       "      <td>...</td>\n",
       "      <td>∅</td>\n",
       "      <td>kʰ</td>\n",
       "      <td>aw</td>\n",
       "      <td>∅</td>\n",
       "      <td>kʰ</td>\n",
       "      <td>ɑu</td>\n",
       "      <td>∅</td>\n",
       "      <td>kʰ</td>\n",
       "      <td>ɑu</td>\n",
       "      <td>∅</td>\n",
       "    </tr>\n",
       "    <tr>\n",
       "      <th>3</th>\n",
       "      <td>七</td>\n",
       "      <td>5611012</td>\n",
       "      <td>checked</td>\n",
       "      <td>t͡sʰ</td>\n",
       "      <td>iɪ</td>\n",
       "      <td>t̚</td>\n",
       "      <td>t͡sʰ</td>\n",
       "      <td>i</td>\n",
       "      <td>t̚</td>\n",
       "      <td>t͡sʰ</td>\n",
       "      <td>...</td>\n",
       "      <td>t̚</td>\n",
       "      <td>t͡sʰ</td>\n",
       "      <td>i</td>\n",
       "      <td>t̚</td>\n",
       "      <td>t͡sʰ</td>\n",
       "      <td>iĕ</td>\n",
       "      <td>t̚</td>\n",
       "      <td>t͡sʰ</td>\n",
       "      <td>i̯ĕ</td>\n",
       "      <td>t̚</td>\n",
       "    </tr>\n",
       "    <tr>\n",
       "      <th>4</th>\n",
       "      <td>丄</td>\n",
       "      <td>5611016</td>\n",
       "      <td>rising</td>\n",
       "      <td>d͡ʑ</td>\n",
       "      <td>ɨɐ</td>\n",
       "      <td>ŋ</td>\n",
       "      <td>d͡ʑ</td>\n",
       "      <td>iɐ</td>\n",
       "      <td>ŋ</td>\n",
       "      <td>d͡ʑ</td>\n",
       "      <td>...</td>\n",
       "      <td>ŋ</td>\n",
       "      <td>d͡ʑ</td>\n",
       "      <td>ɨa</td>\n",
       "      <td>ŋ</td>\n",
       "      <td>ʑ</td>\n",
       "      <td>ia</td>\n",
       "      <td>ŋ</td>\n",
       "      <td>ʑ</td>\n",
       "      <td>i̯a</td>\n",
       "      <td>ŋ</td>\n",
       "    </tr>\n",
       "  </tbody>\n",
       "</table>\n",
       "<p>5 rows × 21 columns</p>\n",
       "</div>"
      ],
      "text/plain": [
       "  character    index tone_label Zhengzhang_onset Zhengzhang_nucleus  \\\n",
       "0         一  5611001    checked                ʔ                 iɪ   \n",
       "1         丁  5611004      level                ʈ                 ˠɛ   \n",
       "2         丂  5611009     rising               kʰ                 ɑu   \n",
       "3         七  5611012    checked             t͡sʰ                 iɪ   \n",
       "4         丄  5611016     rising              d͡ʑ                 ɨɐ   \n",
       "\n",
       "  Zhengzhang_coda Pan_onset Pan_nucleus Pan_coda Shao_onset  ... Shao_coda  \\\n",
       "0              t̚         ʔ           i       t̚          ʔ  ...        t̚   \n",
       "1               ŋ         ʈ          ᵚæ        ŋ          ȶ  ...         ŋ   \n",
       "2               ∅        kʰ          ɑu        ∅         kʰ  ...         ∅   \n",
       "3              t̚      t͡sʰ           i       t̚       t͡sʰ  ...        t̚   \n",
       "4               ŋ       d͡ʑ          iɐ        ŋ        d͡ʑ  ...         ŋ   \n",
       "\n",
       "  Pulleyblank_onset Pulleyblank_nucleus Pulleyblank_coda Li_onset Li_nucleus  \\\n",
       "0                 ʔ                   i               t̚        ʔ         iĕ   \n",
       "1                 ʈ                 əɨj                ŋ        ȶ          ɛ   \n",
       "2                kʰ                  aw                ∅       kʰ         ɑu   \n",
       "3              t͡sʰ                   i               t̚     t͡sʰ         iĕ   \n",
       "4               d͡ʑ                  ɨa                ŋ        ʑ         ia   \n",
       "\n",
       "  Li_coda Karlgren_onset Karlgren_nucleus Karlgren_coda  \n",
       "0      t̚              ʔ              i̯ĕ            t̚  \n",
       "1       ŋ              ȶ                æ             ŋ  \n",
       "2       ∅             kʰ               ɑu             ∅  \n",
       "3      t̚           t͡sʰ              i̯ĕ            t̚  \n",
       "4       ŋ              ʑ              i̯a             ŋ  \n",
       "\n",
       "[5 rows x 21 columns]"
      ]
     },
     "execution_count": 8,
     "metadata": {},
     "output_type": "execute_result"
    }
   ],
   "source": [
    "mc = pd.read_csv('preprocessing/dataset/pron/mc-full-table.tsv', sep='\\t')\n",
    "mc.head()"
   ]
  },
  {
   "cell_type": "code",
   "execution_count": 9,
   "metadata": {},
   "outputs": [
    {
     "data": {
      "text/html": [
       "<div>\n",
       "<style scoped>\n",
       "    .dataframe tbody tr th:only-of-type {\n",
       "        vertical-align: middle;\n",
       "    }\n",
       "\n",
       "    .dataframe tbody tr th {\n",
       "        vertical-align: top;\n",
       "    }\n",
       "\n",
       "    .dataframe thead th {\n",
       "        text-align: right;\n",
       "    }\n",
       "</style>\n",
       "<table border=\"1\" class=\"dataframe\">\n",
       "  <thead>\n",
       "    <tr style=\"text-align: right;\">\n",
       "      <th></th>\n",
       "      <th>character</th>\n",
       "      <th>index</th>\n",
       "      <th>tone_label</th>\n",
       "      <th>Karlgren_onset</th>\n",
       "      <th>Karlgren_nucleus</th>\n",
       "      <th>Karlgren_coda</th>\n",
       "    </tr>\n",
       "  </thead>\n",
       "  <tbody>\n",
       "    <tr>\n",
       "      <th>0</th>\n",
       "      <td>一</td>\n",
       "      <td>5611001</td>\n",
       "      <td>checked</td>\n",
       "      <td>ʔ</td>\n",
       "      <td>i̯ĕ</td>\n",
       "      <td>t̚</td>\n",
       "    </tr>\n",
       "    <tr>\n",
       "      <th>1</th>\n",
       "      <td>丁</td>\n",
       "      <td>5611004</td>\n",
       "      <td>level</td>\n",
       "      <td>ȶ</td>\n",
       "      <td>æ</td>\n",
       "      <td>ŋ</td>\n",
       "    </tr>\n",
       "    <tr>\n",
       "      <th>2</th>\n",
       "      <td>丂</td>\n",
       "      <td>5611009</td>\n",
       "      <td>rising</td>\n",
       "      <td>kʰ</td>\n",
       "      <td>ɑu</td>\n",
       "      <td>∅</td>\n",
       "    </tr>\n",
       "    <tr>\n",
       "      <th>3</th>\n",
       "      <td>七</td>\n",
       "      <td>5611012</td>\n",
       "      <td>checked</td>\n",
       "      <td>t͡sʰ</td>\n",
       "      <td>i̯ĕ</td>\n",
       "      <td>t̚</td>\n",
       "    </tr>\n",
       "    <tr>\n",
       "      <th>4</th>\n",
       "      <td>丄</td>\n",
       "      <td>5611016</td>\n",
       "      <td>rising</td>\n",
       "      <td>ʑ</td>\n",
       "      <td>i̯a</td>\n",
       "      <td>ŋ</td>\n",
       "    </tr>\n",
       "  </tbody>\n",
       "</table>\n",
       "</div>"
      ],
      "text/plain": [
       "  character    index tone_label Karlgren_onset Karlgren_nucleus Karlgren_coda\n",
       "0         一  5611001    checked              ʔ              i̯ĕ            t̚\n",
       "1         丁  5611004      level              ȶ                æ             ŋ\n",
       "2         丂  5611009     rising             kʰ               ɑu             ∅\n",
       "3         七  5611012    checked           t͡sʰ              i̯ĕ            t̚\n",
       "4         丄  5611016     rising              ʑ              i̯a             ŋ"
      ]
     },
     "execution_count": 9,
     "metadata": {},
     "output_type": "execute_result"
    }
   ],
   "source": [
    "cols = ['character', 'index', 'tone_label', 'Karlgren_onset', 'Karlgren_nucleus', 'Karlgren_coda']\n",
    "mc_karlgren = mc[cols]\n",
    "mc_karlgren.head()"
   ]
  },
  {
   "cell_type": "code",
   "execution_count": 10,
   "metadata": {},
   "outputs": [
    {
     "data": {
      "text/plain": [
       "(19453, 113)"
      ]
     },
     "execution_count": 10,
     "metadata": {},
     "output_type": "execute_result"
    }
   ],
   "source": [
    "tones  = pd.get_dummies(mc_karlgren.tone_label, prefix='tone_label')\n",
    "onsets = pd.get_dummies(mc_karlgren.Karlgren_onset, prefix='Karlgren_onset')\n",
    "nuclei = pd.get_dummies(mc_karlgren.Karlgren_nucleus, prefix='Karlgren_nucleus')\n",
    "codas  = pd.get_dummies(mc_karlgren.Karlgren_coda, prefix='Karlgren_coda')\n",
    "karlgren_full = mc_karlgren.drop([\n",
    "    'tone_label',\n",
    "    'Karlgren_onset',\n",
    "    'Karlgren_nucleus',\n",
    "    'Karlgren_coda'], axis=1).join([\n",
    "        tones,\n",
    "        onsets,\n",
    "        nuclei,\n",
    "        codas])\n",
    "karlgren_full.shape"
   ]
  },
  {
   "cell_type": "code",
   "execution_count": 11,
   "metadata": {},
   "outputs": [],
   "source": [
    "full_matrix = sinoxenic_fixed.set_index('character').join(karlgren_full.set_index('character')).drop(['wiki_id', 'index'], axis=1)"
   ]
  },
  {
   "cell_type": "code",
   "execution_count": 12,
   "metadata": {},
   "outputs": [
    {
     "data": {
      "text/plain": [
       "(15250, 466)"
      ]
     },
     "execution_count": 12,
     "metadata": {},
     "output_type": "execute_result"
    }
   ],
   "source": [
    "full_matrix = full_matrix.drop('㠛').drop('Karlgren_nucleus_iwɐ', axis=1) # (malformed, not very important)\n",
    "full_matrix.shape"
   ]
  },
  {
   "cell_type": "code",
   "execution_count": 13,
   "metadata": {},
   "outputs": [],
   "source": [
    "full_matrix.to_csv('model/1129-fixed-data-matrix-karlgren.csv')"
   ]
  }
 ],
 "metadata": {
  "kernelspec": {
   "display_name": "Python 3",
   "language": "python",
   "name": "python3"
  },
  "language_info": {
   "codemirror_mode": {
    "name": "ipython",
    "version": 3
   },
   "file_extension": ".py",
   "mimetype": "text/x-python",
   "name": "python",
   "nbconvert_exporter": "python",
   "pygments_lexer": "ipython3",
   "version": "3.7.1"
  }
 },
 "nbformat": 4,
 "nbformat_minor": 2
}
