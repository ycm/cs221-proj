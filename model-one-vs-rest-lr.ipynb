{
 "cells": [
  {
   "cell_type": "markdown",
   "metadata": {},
   "source": [
    "# One-versus-rest classification for a more informed model\n",
    "\n",
    "We have structured our data so that each example (character) has 1 onset, 1 nucleus, 1 coda, and 1 tone. It makes sense to try a one-versus-rest strategy on top of logistic regression and see how much our performance improves over instantiating a logistic regression classifier for every single one-hot encoded label."
   ]
  },
  {
   "cell_type": "code",
   "execution_count": 21,
   "metadata": {},
   "outputs": [],
   "source": [
    "import numpy as np\n",
    "import pandas as pd\n",
    "import matplotlib.pyplot as plt\n",
    "from sklearn.multiclass import OneVsRestClassifier\n",
    "from sklearn.linear_model import LogisticRegression\n",
    "from sklearn.model_selection import train_test_split\n",
    "from sklearn.metrics import confusion_matrix"
   ]
  },
  {
   "cell_type": "code",
   "execution_count": 22,
   "metadata": {},
   "outputs": [],
   "source": [
    "data_matrix = pd.read_csv('model/full-matrix-karlgren.csv').set_index('character').drop(['Karlgren_nucleus_iwɐ'], axis=1)\n",
    "assert data_matrix.isnull().sum().sum() == 0 # no NaNs"
   ]
  },
  {
   "cell_type": "code",
   "execution_count": 23,
   "metadata": {},
   "outputs": [],
   "source": [
    "onset_label_names   = [x for x in data_matrix.columns if 'Karlgren_onset' in x]\n",
    "nucleus_label_names = [x for x in data_matrix.columns if 'Karlgren_nucleus' in x]\n",
    "coda_label_names    = [x for x in data_matrix.columns if 'Karlgren_coda' in x]\n",
    "tone_label_names    = [x for x in data_matrix.columns if 'tone_label' in x]"
   ]
  },
  {
   "cell_type": "code",
   "execution_count": 24,
   "metadata": {},
   "outputs": [],
   "source": [
    "X = data_matrix.drop([\n",
    "    *onset_label_names,\n",
    "    *nucleus_label_names,\n",
    "    *coda_label_names,\n",
    "    *tone_label_names\n",
    "], axis=1)\n",
    "\n",
    "y_onset   = data_matrix[onset_label_names]\n",
    "y_nucleus = data_matrix[nucleus_label_names]\n",
    "y_coda    = data_matrix[coda_label_names]\n",
    "y_tone    = data_matrix[tone_label_names]\n",
    "\n",
    "to_pred_ys = {\n",
    "    'Onset': y_onset,\n",
    "    'Nucleus': y_nucleus,\n",
    "    'Coda': y_coda,\n",
    "    'Tone': y_tone\n",
    "}"
   ]
  },
  {
   "cell_type": "code",
   "execution_count": 27,
   "metadata": {},
   "outputs": [
    {
     "name": "stdout",
     "output_type": "stream",
     "text": [
      "Accuracy for Onset: 59.98%\n",
      "Accuracy for Nucleus: 51.32%\n",
      "Accuracy for Coda: 91.63%\n",
      "Accuracy for Tone: 75.58%\n"
     ]
    }
   ],
   "source": [
    "for y_type_name, to_pred_y in to_pred_ys.items():\n",
    "    X_train, X_test, y_train, y_test = train_test_split(X, to_pred_y, test_size=.3, random_state=42)\n",
    "    clf = OneVsRestClassifier(LogisticRegression(solver='liblinear')).fit(X_train, y_train)    \n",
    "    y_pred = clf.predict(X_test)\n",
    "    n_examples, _ = y_pred.shape\n",
    "    y_test_arr = np.array(y_test)\n",
    "    accuracy = np.mean([y_test_arr[row_idx] @ y_pred[row_idx] for row_idx in range(n_examples)])\n",
    "    print('Accuracy for {}: {:.2f}%'.format(y_type_name, 100 * accuracy))"
   ]
  },
  {
   "cell_type": "markdown",
   "metadata": {},
   "source": [
    "Using a one-versus-rest strategy over the same logistic regression classifier as before shows a marked improvement training a logistic regression classifier for each label. We can now ensure that our model predicts exactly 1 onset, exactly 1 nucleus, etc."
   ]
  }
 ],
 "metadata": {
  "kernelspec": {
   "display_name": "Python 3",
   "language": "python",
   "name": "python3"
  },
  "language_info": {
   "codemirror_mode": {
    "name": "ipython",
    "version": 3
   },
   "file_extension": ".py",
   "mimetype": "text/x-python",
   "name": "python",
   "nbconvert_exporter": "python",
   "pygments_lexer": "ipython3",
   "version": "3.7.3"
  }
 },
 "nbformat": 4,
 "nbformat_minor": 2
}
