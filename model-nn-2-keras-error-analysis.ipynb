{
 "cells": [
  {
   "cell_type": "markdown",
   "metadata": {},
   "source": [
    "# MLP-2: Combining pronunciation and phonetic component data"
   ]
  },
  {
   "cell_type": "code",
   "execution_count": 1,
   "metadata": {},
   "outputs": [
    {
     "name": "stderr",
     "output_type": "stream",
     "text": [
      "Using TensorFlow backend.\n"
     ]
    },
    {
     "name": "stdout",
     "output_type": "stream",
     "text": [
      "[name: \"/device:CPU:0\"\n",
      "device_type: \"CPU\"\n",
      "memory_limit: 268435456\n",
      "locality {\n",
      "}\n",
      "incarnation: 9541365452800904555\n",
      "]\n"
     ]
    }
   ],
   "source": [
    "import json\n",
    "import numpy as np\n",
    "import pandas as pd\n",
    "import matplotlib.pyplot as plt\n",
    "from collections import defaultdict\n",
    "from keras.models import Sequential\n",
    "from keras.layers import Dense, Dropout\n",
    "from keras.wrappers.scikit_learn import KerasClassifier\n",
    "from sklearn.model_selection import cross_val_score, train_test_split, KFold\n",
    "from sklearn.metrics import confusion_matrix\n",
    "from tensorflow.python.client import device_lib\n",
    "\n",
    "print(device_lib.list_local_devices())"
   ]
  },
  {
   "cell_type": "code",
   "execution_count": 32,
   "metadata": {},
   "outputs": [],
   "source": [
    "matrix = pd.read_csv('model/1129-fixed-data-matrix-karlgren.csv').set_index('character')\n",
    "with open('full-ordering.json', encoding='utf-8') as f:\n",
    "    matrix = matrix[json.load(f)]"
   ]
  },
  {
   "cell_type": "code",
   "execution_count": 33,
   "metadata": {},
   "outputs": [],
   "source": [
    "with open('hypothesized_phonetic_series.json', encoding='utf8') as f:\n",
    "    js = json.load(f)"
   ]
  },
  {
   "cell_type": "code",
   "execution_count": 34,
   "metadata": {
    "scrolled": true
   },
   "outputs": [
    {
     "name": "stdout",
     "output_type": "stream",
     "text": [
      "(15250, 4097)\n",
      "(15250, 4097)\n",
      "Index(['mando_onset_b', 'mando_onset_c', 'mando_onset_ch', 'mando_onset_d',\n",
      "       'mando_onset_f', 'mando_onset_g', 'mando_onset_h', 'mando_onset_j',\n",
      "       'mando_onset_k', 'mando_onset_l'],\n",
      "      dtype='object')\n",
      "Index(['ps_𩠐', 'ps_𩧉', 'ps_𩰪', 'ps_𪁾', 'ps_𪇘', 'ps_𪈮', 'ps_𪙍', 'ps_𪚦', 'ps_𪚮',\n",
      "       'ps_𪚱'],\n",
      "      dtype='object')\n"
     ]
    }
   ],
   "source": [
    "def getps(char):\n",
    "    if char in js:\n",
    "        return js[char]\n",
    "    else:\n",
    "        return 0\n",
    "    \n",
    "def rowIndex(row):\n",
    "    return getps(row.name)\n",
    "\n",
    "matrix['ps'] = matrix.apply(rowIndex, axis=1)\n",
    "\n",
    "one_hot = pd.get_dummies(matrix['ps'], prefix = 'ps')\n",
    "dropval = 0\n",
    "print(one_hot.shape)\n",
    "one_hot.drop([col for col, val in one_hot.sum().iteritems() if val < dropval], axis=1, inplace=True)\n",
    "print(one_hot.shape)\n",
    "matrix = matrix.drop('ps', axis=1)\n",
    "matrix = matrix.join(one_hot)\n",
    "print(matrix.columns[:10])\n",
    "print(matrix.columns[-10:])"
   ]
  },
  {
   "cell_type": "code",
   "execution_count": 37,
   "metadata": {},
   "outputs": [],
   "source": [
    "cols = matrix.columns\n",
    "features_cols = [c for c in cols if 'Karlgren' not in c and 'tone_label' not in c]\n",
    "labels_cols = [c for c in cols if c not in features_cols]"
   ]
  },
  {
   "cell_type": "code",
   "execution_count": 6,
   "metadata": {},
   "outputs": [],
   "source": [
    "X_complete = matrix[features_cols]\n",
    "Y_complete = matrix[labels_cols]\n",
    "X_train, X_test, Y_train, Y_test = train_test_split(X_complete, Y_complete, test_size=.3, random_state=0)"
   ]
  },
  {
   "cell_type": "code",
   "execution_count": 19,
   "metadata": {},
   "outputs": [],
   "source": [
    "labels_arch = [\n",
    "    ('tone_label', \n",
    "     (\n",
    "        (32, 'relu'),\n",
    "        (16, 'relu'),\n",
    "     ),\n",
    "     10\n",
    "    ),\n",
    "    ('Karlgren_onset',\n",
    "     (\n",
    "        (768, 'relu'),\n",
    "        (0.3, 'dropout'),\n",
    "        (192, 'relu'),\n",
    "     ),\n",
    "     4\n",
    "    ),\n",
    "    ('Karlgren_nucleus',\n",
    "     (\n",
    "        (1024, 'relu'),\n",
    "        (0.3, 'dropout'),\n",
    "        (192, 'relu'),\n",
    "     ),\n",
    "     4\n",
    "    ),\n",
    "    ('Karlgren_coda',\n",
    "     (\n",
    "        (96, 'relu'),\n",
    "        (32, 'relu'),\n",
    "     ),\n",
    "     5\n",
    "    )\n",
    "]"
   ]
  },
  {
   "cell_type": "code",
   "execution_count": 73,
   "metadata": {},
   "outputs": [],
   "source": [
    "def fit_keras_models(X, X_test, Y, Y_test):\n",
    "    category_to_performance = {}\n",
    "    category_to_cm = {}\n",
    "    model = []\n",
    "    for category, architecture, num_epochs in labels_arch:\n",
    "#         if 'nucleus' in category:\n",
    "        if 1:\n",
    "            print(\"======= Starting training for \" + category + \" =======\")\n",
    "\n",
    "            Y_subset = Y[[x for x in Y.columns if category in x]]\n",
    "            Y_test_subset = Y_test[[x for x in Y_test.columns if category in x]]\n",
    "            print(len(Y_test_subset.columns), Y_test_subset.columns)\n",
    "            n_bins = Y_subset.shape[1]\n",
    "\n",
    "            def build_keras_nn_model():\n",
    "                model = Sequential()\n",
    "                model.add(Dense(\n",
    "                    architecture[0][0],\n",
    "                    input_dim=X.shape[1],\n",
    "                    activation=architecture[0][1])\n",
    "                )\n",
    "\n",
    "                if len(architecture) > 1:\n",
    "                    for l, (hidden_layer_size, act_fn) in enumerate(architecture[1:]):\n",
    "                        if act_fn is 'dropout':\n",
    "                            model.add(Dropout(\n",
    "                                rate=hidden_layer_size\n",
    "                            ))\n",
    "                        else:\n",
    "                            model.add(Dense(\n",
    "                                hidden_layer_size,\n",
    "                                input_dim=architecture[l - 1],\n",
    "                                activation=act_fn)\n",
    "                            )\n",
    "\n",
    "                model.add(Dense(n_bins, activation='softmax'))\n",
    "                model.compile(loss='categorical_crossentropy', optimizer='adam', metrics=['accuracy'])\n",
    "                return model\n",
    "            KerasNN = KerasClassifier(\n",
    "                build_fn=build_keras_nn_model,\n",
    "                epochs=num_epochs,\n",
    "                batch_size=256,\n",
    "                verbose=1\n",
    "            )\n",
    "            X_train = X\n",
    "            Y_train = Y_subset\n",
    "            KerasNN.fit(X_train, Y_train)\n",
    "            y_pred = KerasNN.predict(X_test)\n",
    "            Y_test_subset_numeric_idx = Y_test_subset.copy()\n",
    "            Y_test_subset_numeric_idx.columns = list(range(len(Y_test_subset_numeric_idx.columns)))\n",
    "            true_y = np.array(Y_test_subset_numeric_idx.idxmax(axis=1))\n",
    "            cnf_matrix = confusion_matrix(true_y, y_pred, labels=list(range(n_bins)))\n",
    "            acc = np.sum(true_y == y_pred) / len(true_y)\n",
    "            print(cnf_matrix, cnf_matrix.shape, max(y_pred), acc)\n",
    "            category_to_performance[category] = acc\n",
    "            category_to_cm[category] = cnf_matrix\n",
    "        \n",
    "    return category_to_performance, category_to_cm"
   ]
  },
  {
   "cell_type": "code",
   "execution_count": 74,
   "metadata": {},
   "outputs": [
    {
     "name": "stdout",
     "output_type": "stream",
     "text": [
      "======= Starting training for tone_label =======\n",
      "4 Index(['tone_label_checked', 'tone_label_departing', 'tone_label_level',\n",
      "       'tone_label_rising'],\n",
      "      dtype='object')\n",
      "Epoch 1/10\n",
      "10698/10698 [==============================] - 4s 376us/step - loss: 1.1819 - acc: 0.4693\n",
      "Epoch 2/10\n",
      "10698/10698 [==============================] - 1s 116us/step - loss: 0.7879 - acc: 0.7234\n",
      "Epoch 3/10\n",
      "10698/10698 [==============================] - 1s 116us/step - loss: 0.5627 - acc: 0.8070\n",
      "Epoch 4/10\n",
      "10698/10698 [==============================] - 1s 116us/step - loss: 0.4828 - acc: 0.8250\n",
      "Epoch 5/10\n",
      "10698/10698 [==============================] - 1s 116us/step - loss: 0.4396 - acc: 0.8458\n",
      "Epoch 6/10\n",
      "10698/10698 [==============================] - 1s 116us/step - loss: 0.4069 - acc: 0.8613\n",
      "Epoch 7/10\n",
      "10698/10698 [==============================] - 1s 129us/step - loss: 0.3790 - acc: 0.8721\n",
      "Epoch 8/10\n",
      "10698/10698 [==============================] - 1s 140us/step - loss: 0.3536 - acc: 0.8808\n",
      "Epoch 9/10\n",
      "10698/10698 [==============================] - 1s 130us/step - loss: 0.3314 - acc: 0.8885\n",
      "Epoch 10/10\n",
      "10698/10698 [==============================] - 2s 174us/step - loss: 0.3147 - acc: 0.8933\n",
      "4586/4586 [==============================] - 1s 226us/step\n",
      "[[ 813   12   11    7]\n",
      " [  40  534  161  112]\n",
      " [  16  100 1800  144]\n",
      " [   9   91  174  562]] (4, 4) 3 0.808765808983864\n",
      "======= Starting training for Karlgren_onset =======\n",
      "36 Index(['Karlgren_onset_bʱ', 'Karlgren_onset_p', 'Karlgren_onset_pʰ',\n",
      "       'Karlgren_onset_m', 'Karlgren_onset_dʱ', 'Karlgren_onset_tʰ',\n",
      "       'Karlgren_onset_d͡zʱ', 'Karlgren_onset_n', 'Karlgren_onset_s',\n",
      "       'Karlgren_onset_t', 'Karlgren_onset_t͡s', 'Karlgren_onset_t͡sʰ',\n",
      "       'Karlgren_onset_z', 'Karlgren_onset_ȡʱ', 'Karlgren_onset_d͡ʑʰ',\n",
      "       'Karlgren_onset_ȵʑ', 'Karlgren_onset_t͡ɕ', 'Karlgren_onset_t͡ɕʰ',\n",
      "       'Karlgren_onset_ȶ', 'Karlgren_onset_ȶʰ', 'Karlgren_onset_ɕ',\n",
      "       'Karlgren_onset_ʑ', 'Karlgren_onset_l', 'Karlgren_onset_ɖ͡ʐʰ',\n",
      "       'Karlgren_onset_ɖ͡ʐʱ', 'Karlgren_onset_ʂ', 'Karlgren_onset_ʈ͡ʂ',\n",
      "       'Karlgren_onset_ʈ͡ʂʰ', 'Karlgren_onset_g', 'Karlgren_onset_k',\n",
      "       'Karlgren_onset_kʰ', 'Karlgren_onset_x', 'Karlgren_onset_ɣ',\n",
      "       'Karlgren_onset_ŋ', 'Karlgren_onset_ʔ', 'Karlgren_onset_∅'],\n",
      "      dtype='object')\n",
      "Epoch 1/4\n",
      "10698/10698 [==============================] - 12s 1ms/step - loss: 2.4090 - acc: 0.4355\n",
      "Epoch 2/4\n",
      "10698/10698 [==============================] - 9s 850us/step - loss: 1.0379 - acc: 0.7204\n",
      "Epoch 3/4\n",
      "10698/10698 [==============================] - 7s 637us/step - loss: 0.7805 - acc: 0.7926\n",
      "Epoch 4/4\n",
      "10698/10698 [==============================] - 6s 588us/step - loss: 0.6402 - acc: 0.8275\n",
      "4586/4586 [==============================] - 1s 308us/step\n",
      "[[130  33  10 ...   0   0   0]\n",
      " [ 28 132  10 ...   0   0   0]\n",
      " [ 33  39  44 ...   0   0   1]\n",
      " ...\n",
      " [  0   0   0 ... 124   5   4]\n",
      " [  0   0   0 ...   7 203  22]\n",
      " [  0   0   0 ...   2   6 234]] (36, 36) 35 0.754470126471871\n",
      "======= Starting training for Karlgren_nucleus =======\n",
      "62 Index(['Karlgren_nucleus_a', 'Karlgren_nucleus_ai', 'Karlgren_nucleus_au',\n",
      "       'Karlgren_nucleus_e̯i', 'Karlgren_nucleus_i', 'Karlgren_nucleus_ie',\n",
      "       'Karlgren_nucleus_iei', 'Karlgren_nucleus_ieu', 'Karlgren_nucleus_iwa',\n",
      "       'Karlgren_nucleus_iwe', 'Karlgren_nucleus_iwei', 'Karlgren_nucleus_iɐ',\n",
      "       'Karlgren_nucleus_i̯a', 'Karlgren_nucleus_i̯u', 'Karlgren_nucleus_i̯uĕ',\n",
      "       'Karlgren_nucleus_i̯uə', 'Karlgren_nucleus_i̯wo',\n",
      "       'Karlgren_nucleus_i̯wɐ', 'Karlgren_nucleus_i̯wɐi',\n",
      "       'Karlgren_nucleus_i̯wɑ', 'Karlgren_nucleus_i̯wə',\n",
      "       'Karlgren_nucleus_i̯wɛ', 'Karlgren_nucleus_i̯wɛi',\n",
      "       'Karlgren_nucleus_i̯æ', 'Karlgren_nucleus_i̯ĕ', 'Karlgren_nucleus_i̯ɐ',\n",
      "       'Karlgren_nucleus_i̯ɐi', 'Karlgren_nucleus_i̯ɑ', 'Karlgren_nucleus_i̯ə',\n",
      "       'Karlgren_nucleus_i̯ə̯u', 'Karlgren_nucleus_i̯ɛ',\n",
      "       'Karlgren_nucleus_i̯ɛi', 'Karlgren_nucleus_i̯ɛu', 'Karlgren_nucleus_u',\n",
      "       'Karlgren_nucleus_uo', 'Karlgren_nucleus_uɑ', 'Karlgren_nucleus_uɑi',\n",
      "       'Karlgren_nucleus_uɑ̆i', 'Karlgren_nucleus_uə', 'Karlgren_nucleus_wa',\n",
      "       'Karlgren_nucleus_wai', 'Karlgren_nucleus_we̯i', 'Karlgren_nucleus_wi',\n",
      "       'Karlgren_nucleus_wie', 'Karlgren_nucleus_wæ', 'Karlgren_nucleus_wă',\n",
      "       'Karlgren_nucleus_wăi', 'Karlgren_nucleus_wɐ', 'Karlgren_nucleus_wɑ',\n",
      "       'Karlgren_nucleus_wə', 'Karlgren_nucleus_æ', 'Karlgren_nucleus_ă',\n",
      "       'Karlgren_nucleus_ăi', 'Karlgren_nucleus_ɐ', 'Karlgren_nucleus_ɑ',\n",
      "       'Karlgren_nucleus_ɑi', 'Karlgren_nucleus_ɑu', 'Karlgren_nucleus_ɑ̆i',\n",
      "       'Karlgren_nucleus_ɔ', 'Karlgren_nucleus_ə', 'Karlgren_nucleus_ə̯u',\n",
      "       'Karlgren_nucleus_ɨ̯ɐ'],\n",
      "      dtype='object')\n",
      "Epoch 1/4\n",
      "10698/10698 [==============================] - 13s 1ms/step - loss: 2.8358 - acc: 0.3556\n",
      "Epoch 2/4\n",
      "10698/10698 [==============================] - 8s 792us/step - loss: 1.2393 - acc: 0.6909\n",
      "Epoch 3/4\n",
      "10698/10698 [==============================] - 9s 857us/step - loss: 0.8594 - acc: 0.7787\n",
      "Epoch 4/4\n",
      "10698/10698 [==============================] - 9s 796us/step - loss: 0.6596 - acc: 0.8297\n",
      "4586/4586 [==============================] - 2s 384us/step\n",
      "[[63  2  0 ...  0  0  0]\n",
      " [ 0 20  0 ...  0  0  0]\n",
      " [ 0  0 46 ...  0  0  0]\n",
      " ...\n",
      " [ 0  0  0 ... 22  0  0]\n",
      " [ 0  0  0 ...  0 64  0]\n",
      " [ 1  0  0 ...  0  0 11]] (62, 62) 61 0.7372437854339293\n",
      "======= Starting training for Karlgren_coda =======\n",
      "7 Index(['Karlgren_coda_p̚', 'Karlgren_coda_t̚', 'Karlgren_coda_k̚',\n",
      "       'Karlgren_coda_m', 'Karlgren_coda_n', 'Karlgren_coda_ŋ',\n",
      "       'Karlgren_coda_∅'],\n",
      "      dtype='object')\n",
      "Epoch 1/5\n",
      "10698/10698 [==============================] - 5s 476us/step - loss: 1.2519 - acc: 0.6482\n",
      "Epoch 2/5\n",
      "10698/10698 [==============================] - 2s 176us/step - loss: 0.3431 - acc: 0.9163\n",
      "Epoch 3/5\n",
      "10698/10698 [==============================] - 2s 156us/step - loss: 0.1774 - acc: 0.9302\n",
      "Epoch 4/5\n",
      "10698/10698 [==============================] - 2s 156us/step - loss: 0.1348 - acc: 0.9334\n",
      "Epoch 5/5\n",
      "10698/10698 [==============================] - 2s 158us/step - loss: 0.1117 - acc: 0.9367\n",
      "4586/4586 [==============================] - 1s 249us/step\n",
      "[[ 143    1    1    1    2    1  185]\n",
      " [   1  246    4    0    4    0    6]\n",
      " [   1    3  409    1    2    1   15]\n",
      " [   3    1    0  252    4    1    0]\n",
      " [   1    3    2    2  743    4    9]\n",
      " [   1    0    2    1    5  643    7]\n",
      " [   3   22   22    0   14    8 1806]] (7, 7) 6 0.9249890972525077\n"
     ]
    }
   ],
   "source": [
    "performance, cms = fit_keras_models(\n",
    "    X_train,\n",
    "    X_test,\n",
    "    Y_train,\n",
    "    Y_test,\n",
    ")"
   ]
  },
  {
   "cell_type": "code",
   "execution_count": 23,
   "metadata": {},
   "outputs": [],
   "source": [
    "import seaborn as sns"
   ]
  },
  {
   "cell_type": "code",
   "execution_count": 103,
   "metadata": {},
   "outputs": [
    {
     "name": "stdout",
     "output_type": "stream",
     "text": [
      "[('rising', 'level'), ('departing', 'level'), ('departing', 'rising'), ('rising', 'departing'), ('level', 'rising'), ('level', 'departing'), ('departing', 'checked'), ('checked', 'departing'), ('checked', 'level'), ('rising', 'checked')]\n",
      "[('d͡ʑʰ', 'ʑ'), ('pʰ', 'p'), ('pʰ', 'bʱ'), ('ʂ', 's'), ('t͡ɕʰ', 't͡ɕ'), ('ȶʰ', 't͡ɕʰ'), ('z', 's'), ('bʱ', 'p'), ('t͡s', 'd͡zʱ'), ('ʈ͡ʂ', 't͡ɕ')]\n",
      "[('i̯ɑ', 'i̯u'), ('wă', 'uɑ'), ('wə', 'wæ'), ('wə', 'uo'), ('iwei', 'iei'), ('wăi', 'uɑ̆i'), ('ɑi', 'ɑ̆i'), ('i̯ɛi', 'iei'), ('wɐ', 'wɑ'), ('wɐ', 'wæ')]\n",
      "[('p̚', '∅'), ('k̚', '∅'), ('t̚', '∅'), ('t̚', 'n'), ('t̚', 'k̚'), ('m', 'n'), ('n', '∅'), ('∅', 't̚'), ('∅', 'k̚'), ('m', 'p̚')]\n"
     ]
    },
    {
     "name": "stderr",
     "output_type": "stream",
     "text": [
      "/Users/ycm/miniconda3/lib/python3.7/site-packages/ipykernel_launcher.py:5: RuntimeWarning: invalid value encountered in true_divide\n",
      "  \"\"\"\n"
     ]
    }
   ],
   "source": [
    "THRES = 1\n",
    "\n",
    "for category, _, _ in labels_arch:\n",
    "    cm = cms[category]\n",
    "    cm_norm = cm.T / cm.astype(float).sum(axis=1)\n",
    "    cm_norm_df = pd.DataFrame(cm_norm)\n",
    "    cm_norm_df.columns = [x.replace(category, '')[1:] for x in labels_cols if category in x]\n",
    "    cm_norm_df = cm_norm_df.set_index(cm_norm_df.columns)\n",
    "    \n",
    "    # principal submatrix\n",
    "    for col in cm_norm_df.columns:\n",
    "        diag = cm_norm_df[col][col]\n",
    "        if diag != diag or diag > THRES:\n",
    "            cm_norm_df = cm_norm_df.drop(col).drop(col, axis=1)\n",
    "    \n",
    "    mis = []\n",
    "    for r in cm_norm_df.columns:\n",
    "        for c in cm_norm_df.columns:\n",
    "            if r == c or not cm_norm_df[c][r]:\n",
    "                continue\n",
    "            mis.append((cm_norm_df[c][r], c, r))\n",
    "    print([(y, z) for x,y,z in sorted(mis, reverse=True)[:10]])\n",
    "            \n",
    "    \n",
    "#     ax = plt.figure(figsize=(len(cm_norm_df) / 2, len(cm_norm_df) / 2), dpi=200)\n",
    "#     plt.title(category)\n",
    "#     sns.heatmap(cm_norm_df, square=True)\n",
    "#     plt.yticks(rotation=0)\n",
    "#     plt.savefig('figs/' + category + '_cm_dpi200.png')\n",
    "#     plt.show()"
   ]
  },
  {
   "cell_type": "code",
   "execution_count": null,
   "metadata": {},
   "outputs": [],
   "source": []
  }
 ],
 "metadata": {
  "kernelspec": {
   "display_name": "Python 3",
   "language": "python",
   "name": "python3"
  },
  "language_info": {
   "codemirror_mode": {
    "name": "ipython",
    "version": 3
   },
   "file_extension": ".py",
   "mimetype": "text/x-python",
   "name": "python",
   "nbconvert_exporter": "python",
   "pygments_lexer": "ipython3",
   "version": "3.7.3"
  }
 },
 "nbformat": 4,
 "nbformat_minor": 2
}
