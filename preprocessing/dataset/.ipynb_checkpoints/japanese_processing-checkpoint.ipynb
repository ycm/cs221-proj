{
 "cells": [
  {
   "cell_type": "code",
   "execution_count": null,
   "metadata": {},
   "outputs": [],
   "source": [
    "valid = \"ぁあぃいぅうぇえぉおかがきぎくぐけげこごさざしじすずせぜそぞただちぢっつづてでとどなにぬねのはばぱひびぴふぶぷへべぺほぼぽまみむめもゃやゅゆょよらりるれろゎわゐゑをんゔゕゖ\""
   ]
  },
  {
   "cell_type": "code",
   "execution_count": 2,
   "metadata": {},
   "outputs": [],
   "source": [
    "import pandas as pd\n",
    "df = pd.read_csv(\"chinese_jp_kor_excel_data.csv\")\n",
    "columns = ['Column9', 'Column10', 'Column11']"
   ]
  },
  {
   "cell_type": "code",
   "execution_count": 18,
   "metadata": {},
   "outputs": [
    {
     "data": {
      "text/plain": [
       "0                                                      NaN\n",
       "1                                                      NaN\n",
       "2                                                      NaN\n",
       "3                                                      NaN\n",
       "4                                                      NaN\n",
       "5                                                      달|월\n",
       "6                                                      NaN\n",
       "7                                                     사이|간\n",
       "8                                                 푸르다|푸를|청\n",
       "9                                                  붉다|붉을|적\n",
       "10       hangeul=추|eumhun=[[가을]]추|ehy=kaulchwu|rv=chu|m...\n",
       "11           hangeul=[[조]]|eumhun=[[아침]]|rv=jo|mr=cho|y=co\n",
       "12                      hangeul=의|eumhun=|rv=ui|mr=ŭi|y=uy\n",
       "13                                               hangeul=구\n",
       "14                                                     NaN\n",
       "15                                                    사람|인\n",
       "16                                                     물|수\n",
       "17                                           hangeul=[[사]]\n",
       "18                            hangeul=미|eumhun=|mr=mi|y=mi\n",
       "19                                     hangeul=[[령]]→[[영]]\n",
       "20                                             병들다|병들|녁||역\n",
       "21                                                       마\n",
       "22                                                       성\n",
       "23                                                       복\n",
       "24                                                    임금|군\n",
       "25                                                     NaN\n",
       "26                                                       손\n",
       "27                                                  비다|빌|공\n",
       "28                                           hangeul=[[저]]\n",
       "29                                                       상\n",
       "                               ...                        \n",
       "15223                                                  NaN\n",
       "15224                                                  NaN\n",
       "15225                                                  NaN\n",
       "15226                                                  NaN\n",
       "15227                                                  NaN\n",
       "15228                                                  NaN\n",
       "15229                                                  NaN\n",
       "15230                                                  NaN\n",
       "15231                                                  NaN\n",
       "15232                                                  NaN\n",
       "15233                                                  NaN\n",
       "15234                                                  NaN\n",
       "15235                                                  NaN\n",
       "15236                                                  NaN\n",
       "15237                                                  NaN\n",
       "15238                                                  NaN\n",
       "15239                                                  NaN\n",
       "15240                                                  NaN\n",
       "15241                                                  NaN\n",
       "15242                                                  NaN\n",
       "15243                                                  NaN\n",
       "15244                                                  NaN\n",
       "15245                                                  NaN\n",
       "15246                                                  NaN\n",
       "15247                                                  NaN\n",
       "15248                                                  NaN\n",
       "15249                                                  NaN\n",
       "15250                                                  NaN\n",
       "15251                                                  NaN\n",
       "15252                                                  NaN\n",
       "Name: Column12, Length: 15253, dtype: object"
      ]
     },
     "execution_count": 18,
     "metadata": {},
     "output_type": "execute_result"
    }
   ],
   "source": [
    "df['Column9']"
   ]
  },
  {
   "cell_type": "code",
   "execution_count": null,
   "metadata": {},
   "outputs": [],
   "source": []
  }
 ],
 "metadata": {
  "kernelspec": {
   "display_name": "Python 3",
   "language": "python",
   "name": "python3"
  },
  "language_info": {
   "codemirror_mode": {
    "name": "ipython",
    "version": 3
   },
   "file_extension": ".py",
   "mimetype": "text/x-python",
   "name": "python",
   "nbconvert_exporter": "python",
   "pygments_lexer": "ipython3",
   "version": "3.7.3"
  }
 },
 "nbformat": 4,
 "nbformat_minor": 2
}
