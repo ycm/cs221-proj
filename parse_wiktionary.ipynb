{
 "cells": [
  {
   "cell_type": "code",
   "execution_count": 1,
   "metadata": {},
   "outputs": [],
   "source": [
    "import json\n",
    "from xml.etree.ElementTree import iterparse"
   ]
  },
  {
   "cell_type": "code",
   "execution_count": 2,
   "metadata": {},
   "outputs": [],
   "source": [
    "get_tag = lambda x: x[x.index('}') + 1:]"
   ]
  },
  {
   "cell_type": "code",
   "execution_count": 3,
   "metadata": {},
   "outputs": [],
   "source": [
    "def get_section(it, tag):\n",
    "    while True:\n",
    "        event, elem = next(it)\n",
    "        if event == 'start' and get_tag(elem.tag) == tag:\n",
    "            return elem.text\n",
    "    return None"
   ]
  },
  {
   "cell_type": "code",
   "execution_count": 4,
   "metadata": {},
   "outputs": [],
   "source": [
    "out_json = open('wiki.json', 'w')"
   ]
  },
  {
   "cell_type": "code",
   "execution_count": 6,
   "metadata": {},
   "outputs": [],
   "source": [
    "it = iterparse('/Users/ycm/Downloads/wiktionary.xml', events=('start', 'end'))\n",
    "d = {}\n",
    "while True:\n",
    "    try:\n",
    "        event, elem = next(it)\n",
    "    except StopIteration:\n",
    "        break\n",
    "        \n",
    "    if event == 'start':\n",
    "        if get_tag(elem.tag) == 'page':\n",
    "            title = get_section(it, 'title')\n",
    "            body = get_section(it, 'text')\n",
    "            \n",
    "            if not body or 'Middle Chinese' not in body:\n",
    "                continue\n",
    "            \n",
    "            d[title] = body\n",
    "            break"
   ]
  },
  {
   "cell_type": "code",
   "execution_count": null,
   "metadata": {},
   "outputs": [],
   "source": []
  },
  {
   "cell_type": "code",
   "execution_count": null,
   "metadata": {},
   "outputs": [],
   "source": [
    "json.dump(d, out_json)"
   ]
  }
 ],
 "metadata": {
  "kernelspec": {
   "display_name": "Python 3",
   "language": "python",
   "name": "python3"
  },
  "language_info": {
   "codemirror_mode": {
    "name": "ipython",
    "version": 3
   },
   "file_extension": ".py",
   "mimetype": "text/x-python",
   "name": "python",
   "nbconvert_exporter": "python",
   "pygments_lexer": "ipython3",
   "version": "3.7.3"
  }
 },
 "nbformat": 4,
 "nbformat_minor": 2
}
