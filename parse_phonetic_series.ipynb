{
 "cells": [
  {
   "cell_type": "markdown",
   "metadata": {},
   "source": [
    "Using character composition data to construct a proxy for phonetic series."
   ]
  },
  {
   "cell_type": "code",
   "execution_count": 8,
   "metadata": {},
   "outputs": [],
   "source": [
    "from collections import defaultdict\n",
    "import json"
   ]
  },
  {
   "cell_type": "code",
   "execution_count": 9,
   "metadata": {},
   "outputs": [],
   "source": [
    "radicals = '一丨丶丿乀乁乙乚乛亅二亠人亻儿入八丷冂冖冫几凵刀刂力勹匕匚匸十卜卩㔾厂厶又口囗土士夂夊夕大女子宀寸小尢尣尸屮山巛巜川工己巾干幺广廴廾弋弓彐彑彡彳巜讠⻏阝忄扌氵犭⺮纟艹辶⻏门阝飞饣马心忄戈戶手扌支攴攵文斗斤方无旡日曰月木朩欠止歹歺殳毋比毛氏气水氵火灬爪爫父爻爿片牙牛牜犬犭尣尢王玉礻示罓网⺼月肉见見贝貝车車辶辵长長韦韋风風玄玉王瓜瓦甘生用田疋疒癶白皮皿目矛矢石示礻禸禾穴宂立旡无歺歹罒网衤衣钅金鸟鳥龙龍竹米糸糹纟缶网罒羊羽老而耒耳聿肉⺼月臣自至臼舌舛舟艮色艸艹虍虫血行衣衤西覀⺮竹页頁齐齊見见角言讠谷豆豕豸貝贝赤走足身車车辛辰辵辶邑⻏酉釆里麦麥龟龜魚'"
   ]
  },
  {
   "cell_type": "code",
   "execution_count": 10,
   "metadata": {},
   "outputs": [],
   "source": [
    "with open('preprocessing/dataset/phonetic_series_composition.txt') as f:\n",
    "    char_to_comp = {}\n",
    "    desc_range = range(12272, 12284)\n",
    "    for line in f:\n",
    "        ln = line.strip().split(',')\n",
    "        char_to_comp[ln[0]] = [\n",
    "            ''.join([c for c in comp if ord(c) not in desc_range and ord(c) > 300])\n",
    "            for comp in ln[2:]\n",
    "        ]"
   ]
  },
  {
   "cell_type": "code",
   "execution_count": 11,
   "metadata": {},
   "outputs": [],
   "source": [
    "char_to_all_daughters = {}\n",
    "for char, comps in char_to_comp.items():\n",
    "    curr_depth = 1\n",
    "    unique_daughters_q = [c for c in set(''.join(comps))]\n",
    "    if not unique_daughters_q:\n",
    "        continue\n",
    "    checked = set()\n",
    "    while unique_daughters_q:\n",
    "        daughter = unique_daughters_q[0]\n",
    "        if daughter not in checked and daughter in char_to_comp:\n",
    "            more_daughters = set(c for c in ''.join(char_to_comp[daughter]) if c not in checked)\n",
    "            unique_daughters_q += list(more_daughters)\n",
    "        checked.add(daughter)\n",
    "        unique_daughters_q = unique_daughters_q[1:]\n",
    "    char_to_all_daughters[char] = list(set(checked) - {char})"
   ]
  },
  {
   "cell_type": "code",
   "execution_count": 12,
   "metadata": {},
   "outputs": [],
   "source": [
    "char_to_n_daughters = defaultdict(int)\n",
    "for char, daughters in char_to_all_daughters.items():\n",
    "    char_to_n_daughters[char] = len(daughters)"
   ]
  },
  {
   "cell_type": "code",
   "execution_count": 20,
   "metadata": {
    "scrolled": true
   },
   "outputs": [
    {
     "name": "stdout",
     "output_type": "stream",
     "text": [
      "𠃊0 間9 門2 𠁣0 𠃛0 \n",
      "僴 -> ['間']\n"
     ]
    }
   ],
   "source": [
    "char_to_hypothesized_phonetic_series = {}\n",
    "\n",
    "for char, daughters in char_to_all_daughters.items():\n",
    "#     print(char, end=': ')\n",
    "    highest = 0\n",
    "    daughters_to_n = {}\n",
    "    for d in daughters:\n",
    "        if d in radicals:\n",
    "            continue\n",
    "#         print(d + str(char_to_n_daughters[d]), end=' ')\n",
    "        if char_to_n_daughters[d] >= highest:\n",
    "            highest = char_to_n_daughters[d]\n",
    "            daughters_to_n[d] = char_to_n_daughters[d]\n",
    "    if highest:\n",
    "        best = [c for c in daughters_to_n if daughters_to_n[c] == highest]\n",
    "#         print('\\n' + char + ' -> ' + str(best))\n",
    "        char_to_hypothesized_phonetic_series[char] = best[0]\n",
    "    else:\n",
    "#         print('\\n' + char + ' -> ' + char)\n",
    "        char_to_hypothesized_phonetic_series[char] = char\n",
    "#     print()\n",
    "#     print()"
   ]
  },
  {
   "cell_type": "code",
   "execution_count": 14,
   "metadata": {},
   "outputs": [],
   "source": [
    "# with open('hypothesized_phonetic_series.json', 'w') as f:\n",
    "#     json.dump(char_to_hypothesized_phonetic_series, f, ensure_ascii=False)"
   ]
  },
  {
   "cell_type": "code",
   "execution_count": null,
   "metadata": {},
   "outputs": [],
   "source": []
  }
 ],
 "metadata": {
  "kernelspec": {
   "display_name": "Python 3",
   "language": "python",
   "name": "python3"
  },
  "language_info": {
   "codemirror_mode": {
    "name": "ipython",
    "version": 3
   },
   "file_extension": ".py",
   "mimetype": "text/x-python",
   "name": "python",
   "nbconvert_exporter": "python",
   "pygments_lexer": "ipython3",
   "version": "3.7.3"
  }
 },
 "nbformat": 4,
 "nbformat_minor": 2
}
